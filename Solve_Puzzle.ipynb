{
  "nbformat": 4,
  "nbformat_minor": 0,
  "metadata": {
    "colab": {
      "provenance": [],
      "include_colab_link": true
    },
    "kernelspec": {
      "name": "python3",
      "display_name": "Python 3"
    },
    "language_info": {
      "name": "python"
    }
  },
  "cells": [
    {
      "cell_type": "markdown",
      "metadata": {
        "id": "view-in-github",
        "colab_type": "text"
      },
      "source": [
        "<a href=\"https://colab.research.google.com/github/LivioXie/ICSI435_Group/blob/main/Solve_Puzzle.ipynb\" target=\"_parent\"><img src=\"https://colab.research.google.com/assets/colab-badge.svg\" alt=\"Open In Colab\"/></a>"
      ]
    },
    {
      "cell_type": "code",
      "execution_count": null,
      "metadata": {
        "colab": {
          "base_uri": "https://localhost:8080/"
        },
        "id": "iCUI81wuwHGW",
        "outputId": "929630d1-8420-49ac-fe2f-6ed4bc5fb8a8"
      },
      "outputs": [
        {
          "output_type": "stream",
          "name": "stdout",
          "text": [
            "[[8. 7. 0.]\n",
            " [6. 1. 5.]\n",
            " [3. 4. 2.]]\n"
          ]
        }
      ],
      "source": [
        "mport numpy as num\n",
        "import random\n",
        "list1 = [0,1,2,3,4,5,6,7,8]\n",
        "#Generating puzzle using 0 as the hole.\n",
        "G1_matrix = num.zeros((3, 3))\n",
        "#randomly assign numbers in 3 by 3 matrix\n",
        "for i in range(3):#number of iterations\n",
        "  for j in range(3):\n",
        "      G1_matrix[i, j] = random.choice(list1)\n",
        "      #Remove the used numbers from the list to avoid overlaps.\n",
        "      list1.remove(G1_matrix[i, j])\n",
        "print(G1_matrix)"
      ]
    },
    {
      "cell_type": "code",
      "source": [],
      "metadata": {
        "id": "4HD3VExY4ahO"
      },
      "execution_count": null,
      "outputs": []
    }
  ]
}